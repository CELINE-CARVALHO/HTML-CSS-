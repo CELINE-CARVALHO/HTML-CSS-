{
 "cells": [
  {
   "cell_type": "code",
   "execution_count": 5,
   "id": "7893ba73-39f0-409a-8179-f8c3cd506722",
   "metadata": {},
   "outputs": [
    {
     "name": "stdout",
     "output_type": "stream",
     "text": [
      "\n",
      "Hospital Management System\n",
      "1. Add Patient\n",
      "2. Update Patient Details\n",
      "3. View Patients\n",
      "4. Delete Patients\n",
      "5. Exit\n"
     ]
    },
    {
     "name": "stdin",
     "output_type": "stream",
     "text": [
      "Enter your choice (1-5):  1\n",
      "ENTER THE ID:  4789543\n",
      "ENTER PATIENTS NAME:  deina\n",
      "ENTER THE AGE:  18\n",
      "ENTER THE GENDER:  female\n",
      "ENTER THE DOCTORS NAME:  dr mm joshi\n",
      "ENTER THE STAFFS ID NO:  1593482\n",
      "ENTER THE STAFF NAME:  stiima\n"
     ]
    },
    {
     "name": "stdout",
     "output_type": "stream",
     "text": [
      "{'4789543': {'Name': 'deina', 'Age': 18, 'Gender': 'female', 'Doctors_Name': 'dr mm joshi', 'Staff_ID': 1593482, 'Staff_Name': 'stiima'}}\n",
      "Patient added successfully!\n",
      "\n",
      "Hospital Management System\n",
      "1. Add Patient\n",
      "2. Update Patient Details\n",
      "3. View Patients\n",
      "4. Delete Patients\n",
      "5. Exit\n"
     ]
    },
    {
     "name": "stdin",
     "output_type": "stream",
     "text": [
      "Enter your choice (1-5):  1\n",
      "ENTER THE ID:  1596349\n",
      "ENTER PATIENTS NAME:  ftuin\n",
      "ENTER THE AGE:  15\n",
      "ENTER THE GENDER:  male\n",
      "ENTER THE DOCTORS NAME:  dr guu guu\n",
      "ENTER THE STAFFS ID NO:  1236549\n",
      "ENTER THE STAFF NAME:  feiga\n"
     ]
    },
    {
     "name": "stdout",
     "output_type": "stream",
     "text": [
      "{'4789543': {'Name': 'deina', 'Age': 18, 'Gender': 'female', 'Doctors_Name': 'dr mm joshi', 'Staff_ID': 1593482, 'Staff_Name': 'stiima'}, '1596349': {'Name': 'ftuin', 'Age': 15, 'Gender': 'male', 'Doctors_Name': 'dr guu guu', 'Staff_ID': 1236549, 'Staff_Name': 'feiga'}}\n",
      "Patient added successfully!\n",
      "\n",
      "Hospital Management System\n",
      "1. Add Patient\n",
      "2. Update Patient Details\n",
      "3. View Patients\n",
      "4. Delete Patients\n",
      "5. Exit\n"
     ]
    },
    {
     "name": "stdin",
     "output_type": "stream",
     "text": [
      "Enter your choice (1-5):  2\n",
      "Enter the ID of the patient to update:  4789543\n"
     ]
    },
    {
     "name": "stdout",
     "output_type": "stream",
     "text": [
      "Update Patient Details:\n",
      "1. Name\n",
      "2. Age\n",
      "3. Gender\n",
      "4. Doctors_Name\n",
      "5. Staff_ID\n",
      "6. Staff_Name\n"
     ]
    },
    {
     "name": "stdin",
     "output_type": "stream",
     "text": [
      "Enter the number corresponding to the detail you want to update (1-6):  2\n"
     ]
    },
    {
     "name": "stdout",
     "output_type": "stream",
     "text": [
      "Current Age: 18\n"
     ]
    },
    {
     "name": "stdin",
     "output_type": "stream",
     "text": [
      "Enter updated Age:  20\n"
     ]
    },
    {
     "name": "stdout",
     "output_type": "stream",
     "text": [
      "Patient updated successfully.\n",
      "\n",
      "Hospital Management System\n",
      "1. Add Patient\n",
      "2. Update Patient Details\n",
      "3. View Patients\n",
      "4. Delete Patients\n",
      "5. Exit\n"
     ]
    },
    {
     "name": "stdin",
     "output_type": "stream",
     "text": [
      "Enter your choice (1-5):  3\n"
     ]
    },
    {
     "name": "stdout",
     "output_type": "stream",
     "text": [
      "Patient ID: 4789543, Details: {'Name': 'deina', 'Age': '20', 'Gender': 'female', 'Doctors_Name': 'dr mm joshi', 'Staff_ID': 1593482, 'Staff_Name': 'stiima'}\n",
      "Patient ID: 1596349, Details: {'Name': 'ftuin', 'Age': 15, 'Gender': 'male', 'Doctors_Name': 'dr guu guu', 'Staff_ID': 1236549, 'Staff_Name': 'feiga'}\n",
      "\n",
      "Hospital Management System\n",
      "1. Add Patient\n",
      "2. Update Patient Details\n",
      "3. View Patients\n",
      "4. Delete Patients\n",
      "5. Exit\n"
     ]
    },
    {
     "name": "stdin",
     "output_type": "stream",
     "text": [
      "Enter your choice (1-5):  5\n"
     ]
    },
    {
     "name": "stdout",
     "output_type": "stream",
     "text": [
      "Exiting the program. Thank you!\n"
     ]
    }
   ],
   "source": [
    "a=open(\"hospital_records updated.txt\",\"w\")\n",
    "a.write(\"\\n\")\n",
    "d = {}\n",
    "e = {}\n",
    "\n",
    "\n",
    "def display_menu():\n",
    "    print(\"\\nHospital Management System\")\n",
    "    print(\"1. Add Patient\")\n",
    "    print(\"2. Update Patient Details\")\n",
    "    print(\"3. View Patients\")\n",
    "    print(\"4. Delete Patients\")\n",
    "    print(\"5. Exit\")\n",
    "\n",
    "\n",
    "\n",
    "\n",
    "def patients_details():\n",
    "    try:\n",
    "        patients_id = input(\"ENTER THE ID: \")\n",
    "        name = input('ENTER PATIENTS NAME: ')\n",
    "        age = int(input(\"ENTER THE AGE: \"))\n",
    "        gender = input(\"ENTER THE GENDER: \")\n",
    "        doctors_name = input(\"ENTER THE DOCTORS NAME: \")\n",
    "        staff_id = int(input(\"ENTER THE STAFFS ID NO: \"))\n",
    "        staff_name = input(\"ENTER THE STAFF NAME: \")\n",
    "\n",
    "        patient = {\"Name\": name,\"Age\": age,\"Gender\": gender,\"Doctors_Name\": doctors_name,\"Staff_ID\": staff_id,\"Staff_Name\": staff_name }\n",
    "\n",
    "        e[patients_id] = patient\n",
    "        d[patients_id] = patient\n",
    "        print(d)\n",
    "        print(\"Patient added successfully!\")\n",
    "\n",
    "    except (ValueError, Exception) as error:\n",
    "        print(f\"Error: {error}. Please enter valid values.\")\n",
    "\n",
    "\n",
    "def update_patients():\n",
    "    patient_id = input(\"Enter the ID of the patient to update: \")\n",
    "    \n",
    "    if patient_id in d:\n",
    "        print(\"Update Patient Details:\")\n",
    "        \n",
    "        keys = [\"Name\", \"Age\", \"Gender\", \"Doctors_Name\", \"Staff_ID\", \"Staff_Name\"]\n",
    "\n",
    "        for i in range(len(keys)):\n",
    "            print(f\"{i + 1}. {keys[i]}\")\n",
    "\n",
    "        choice = input(\"Enter the number corresponding to the detail you want to update (1-6): \")\n",
    "\n",
    "        if choice.isdigit() and 1 <= int(choice) <= len(keys):\n",
    "            selected_key = keys[int(choice) - 1]\n",
    "            print(f\"Current {selected_key}: {d[patient_id][selected_key]}\")\n",
    "            new_value = input(f\"Enter updated {selected_key}: \")\n",
    "            d[patient_id][selected_key] = new_value\n",
    "            print(\"Patient updated successfully.\")\n",
    "        else:\n",
    "            print(\"Invalid choice. Please enter a number between 1 and 6.\")\n",
    "    else:\n",
    "        print(\"Patient not found.\")\n",
    "       \n",
    "\n",
    "def view_patients():\n",
    "    if not d:\n",
    "        print(\"No patients found.\")\n",
    "    else:\n",
    "        for patient_id, details in d.items():\n",
    "            print(f\"Patient ID: {patient_id}, Details: {details}\")\n",
    "            a.write(f\"{patient_id}: {details}\\n\")\n",
    "\n",
    "\n",
    "def delete_patients():\n",
    "    patient_id = input(\"Enter the ID of the patient to delete: \")\n",
    "    if patient_id in d:\n",
    "        del d[patient_id]\n",
    "        print(\"Patient deleted successfully.\")\n",
    "    else:\n",
    "        print(\"Patient not found.\")\n",
    "\n",
    "\n",
    "while True:\n",
    "    display_menu()\n",
    "    choice = input(\"Enter your choice (1-5): \")\n",
    "\n",
    "    if choice == \"1\":\n",
    "        patients_details()\n",
    "    elif choice == \"2\":\n",
    "        update_patients()\n",
    "    elif choice == \"3\":\n",
    "        view_patients()\n",
    "    elif choice == \"4\":\n",
    "        delete_patients()\n",
    "    elif choice == \"5\":\n",
    "        print(\"Exiting the program. Thank you!\")\n",
    "        break\n",
    "    else:\n",
    "        print(\"Invalid choice. Please enter a number between 1 and 5.\")\n",
    "\n",
    "a.close()"
   ]
  },
  {
   "cell_type": "code",
   "execution_count": null,
   "id": "037466f0-d83c-4cdf-847d-e8b2fe7fbb95",
   "metadata": {},
   "outputs": [],
   "source": []
  }
 ],
 "metadata": {
  "kernelspec": {
   "display_name": "Python 3 (ipykernel)",
   "language": "python",
   "name": "python3"
  },
  "language_info": {
   "codemirror_mode": {
    "name": "ipython",
    "version": 3
   },
   "file_extension": ".py",
   "mimetype": "text/x-python",
   "name": "python",
   "nbconvert_exporter": "python",
   "pygments_lexer": "ipython3",
   "version": "3.11.5"
  }
 },
 "nbformat": 4,
 "nbformat_minor": 5
}
